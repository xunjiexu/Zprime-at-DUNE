{
 "cells": [
  {
   "cell_type": "code",
   "execution_count": 1,
   "metadata": {},
   "outputs": [],
   "source": [
    "import matplotlib.pyplot as plt\n",
    "import numpy as np\n",
    "\n",
    "plt.rc('text', usetex=True)\n",
    "plt.rc('font', family='serif')\n",
    "plt.rc('text.latex', preamble=r'\\usepackage{pifont} ')\n",
    "\n",
    "import scipy.integrate as si\n",
    "import scipy.interpolate as sp\n",
    "import scipy.optimize as so\n",
    "import time\n",
    "\n",
    "Abs=np.abs\n",
    "Log=np.log\n",
    "Log10=np.log10\n",
    "Pi=np.pi\n",
    "ArcTanh=np.arctanh\n",
    "Sqrt=np.sqrt\n",
    "Exp=np.exp\n",
    "Cos=np.cos\n",
    "Sin=np.sin\n",
    "HeavisideTheta=lambda x: np.heaviside(x,0)\n",
    "def Plot(fun,xminmax,n=100):\n",
    "    xlist=np.linspace(xminmax[0],xminmax[1],n)\n",
    "    ylist=[fun(x) for x in xlist]\n",
    "    plt.plot(xlist,ylist)\n",
    "def ListPlot(data):\n",
    "    xlist=data[:,0]\n",
    "    ylist=data[:,1]\n",
    "    plt.plot(xlist,ylist)\n",
    "    \n",
    "def root_concave(fun,bracket,rtol=1e-5):\n",
    "    def newfun(x):\n",
    "#         print (\"x =\", x)\n",
    "        if x > bracket[1]:\n",
    "#             print (\"x too large:\", x)\n",
    "            return fun(bracket[1])+(x-bracket[1])\n",
    "        if x < bracket[0]:\n",
    "#             print (\"x too small:\", x)\n",
    "            return fun(bracket[0])+(bracket[0]-x)\n",
    "            \n",
    "        y=fun(x)\n",
    "        if y>=0:\n",
    "            return y\n",
    "        else:\n",
    "            raise Exception('f<0 already found', x)\n",
    "    try:      \n",
    "        mini=so.minimize_scalar(newfun,bracket=bracket)#,options={\"maxiter\":10})\n",
    "        if mini.fun>0: return None\n",
    "        xmin=mini.x\n",
    "    except Exception as inst:\n",
    "#         print (inst.args)\n",
    "        xmin=inst.args[1]\n",
    "    sol1=so.root_scalar(fun,bracket=[bracket[0],xmin],rtol=rtol)\n",
    "    sol2=so.root_scalar(fun,bracket=[xmin,bracket[1]],rtol=rtol)\n",
    "\n",
    "    return sol1.root,sol2.root"
   ]
  },
  {
   "cell_type": "markdown",
   "metadata": {},
   "source": [
    "# V3"
   ]
  },
  {
   "cell_type": "code",
   "execution_count": 2,
   "metadata": {},
   "outputs": [],
   "source": [
    "GeV=1\n",
    "MeV=1e-3*GeV\n",
    "eV=1e-9*GeV\n",
    "meter=5.06842372022301e6 /eV\n",
    "me=0.511 * MeV\n",
    "per_GeV_per_m2=GeV**(-1) *meter**(-2)"
   ]
  },
  {
   "cell_type": "code",
   "execution_count": 3,
   "metadata": {},
   "outputs": [],
   "source": [
    "mAr=39.948*931.494102 *MeV\n",
    "ton=1e3*1e3*5.610e32 *eV\n",
    "Ne=1*ton/mAr * 18 #each Ar atom has 18 electrons\n",
    "POT=1.1e21\n",
    "Ne_POT=Ne * POT"
   ]
  },
  {
   "cell_type": "code",
   "execution_count": 4,
   "metadata": {},
   "outputs": [],
   "source": [
    "def Tmax(En):#En=Eν\n",
    "    return (2* En**2)/(me + 2 * En)\n",
    "    #see also LXe/code/chi2_setup.nb\n",
    "    \n",
    "def Tmin(En):\n",
    "    return 0.5*GeV\n",
    "def Tcut(En,T):\n",
    "    if Tmin(En)<T<Tmax(En):\n",
    "        return 1\n",
    "    else:\n",
    "        return 0\n",
    "def Tcut_debug(En,T,T1T2=[]):\n",
    "    if Tmin(En)<=T<=Tmax(En):\n",
    "        return 1\n",
    "    else:\n",
    "        print (En, T,(Tmin(En),T,Tmax(En)),T1T2)\n",
    "        raise ValueError\n",
    "        \n",
    "##################################################################\n",
    "# cross section generated from cross_section_to_python.nb\n",
    "\n",
    "σ_νμ_SM=\\\n",
    "\"4.422808381641405e-14*(0.0729 + (0.0000317331*T)/Enu**2 + 0.0529*(1 - T/Enu)**2)\"\n",
    "\n",
    "σ_̄νμ_SM=\\\n",
    "\"4.422808381641405e-14*(0.0529 + (0.0000317331*T)/Enu**2 + 0.0729*(1 - T/Enu)**2)\"\n",
    "\n",
    "σ_νe_SM=\"4.422808381641405e-14*(0.5328999999999999 - \\\n",
    "(0.00008579689999999998*T)/Enu**2 + 0.05289999999999999*(1 - T/Enu)**2)\"\n",
    "\n",
    "σ_̄νe_SM=\"4.422808381641405e-14*(0.05289999999999999 - \\\n",
    "(0.00008579689999999998*T)/Enu**2 + 0.5328999999999999*(1 - T/Enu)**2)\"\n",
    "\n",
    "σ_νμ_Zprime=\"4.422808381641405e-14*((0.27 - (30321.903138359674*gL*gnu)/(1.*mz**2 \\\n",
    "+ 0.001022*T))**2 - (469822.50087528577*(1.*gL*gnu - \\\n",
    "8.904454274125955e-6*mz**2 - 9.100352268156726e-9*T)*(1.*gnu*gR + \\\n",
    "7.585275863144332e-6*mz**2 + \\\n",
    "7.752151932133506e-9*T)*T)/(Enu**2*(1.*mz**2 + 0.001022*T)**2) + \\\n",
    "(0.23 + (30321.903138359674*gnu*gR)/(1.*mz**2 + 0.001022*T))**2*(-1 + \\\n",
    "T/Enu)**2)\"\n",
    "\n",
    "σ_̄νμ_Zprime=\"4.422808381641405e-14*((0.23 + (30321.903138359674*gnu*gR)/(1.*mz**2 \\\n",
    "+ 0.001022*T))**2 - (469822.50087528577*(1.*gL*gnu - \\\n",
    "8.904454274125955e-6*mz**2 - 9.100352268156726e-9*T)*(1.*gnu*gR + \\\n",
    "7.585275863144332e-6*mz**2 + \\\n",
    "7.752151932133506e-9*T)*T)/(Enu**2*(1.*mz**2 + 0.001022*T)**2) + \\\n",
    "(0.27 - (30321.903138359674*gL*gnu)/(1.*mz**2 + 0.001022*T))**2*(-1 + \\\n",
    "T/Enu)**2)\"\n",
    "##################################################################\n",
    "\n",
    "def dσdT(Enu,T,model={\"name\":\"SM\",\"σ\":σ_νμ_SM}):\n",
    "    if model[\"name\"]==\"SM\": return eval(model[\"σ\"])\n",
    "    if model[\"name\"]==\"Zprime\": \n",
    "        mz=model[\"mz\"];gnu=model[\"gnu\"];gL=model[\"gL\"];gR=model[\"gR\"]; \n",
    "        return eval(model[\"σ\"])"
   ]
  },
  {
   "cell_type": "code",
   "execution_count": 5,
   "metadata": {},
   "outputs": [],
   "source": [
    "def diff_rate(Φ,dσdT,Tbin,prefactor=Ne_POT,Eminmax=[0,40],epsrel=1e-3,epsabs=1e-3,discrete_n=0):\n",
    "    \"\"\"flux if in the unit of nu/cm^2/GeV/..., should be converted to the unit of GeV\n",
    "    Tmin=Tmin(Enu),Tmax=Tmax(Enu)=...\n",
    "    dblquad(f) compute the integratal of func(y, x)`` with \n",
    "    x = a..b and y = gfun(x)..hfun(x). Here Enu-> x, T->y\"\"\"\n",
    "    if len(np.shape(Φ))==0: # which means it is a function\n",
    "        return si.dblquad(lambda T,Eν: prefactor*Φ(Eν)*dσdT(Eν,T)*Tcut(Eν,T), \n",
    "                          a=Eminmax[0],b=Eminmax[1],gfun=Tbin[0],hfun=Tbin[1],epsrel=epsrel)\n",
    "    if len(np.shape(Φ))==2: # which means it is an array:\n",
    "#         global N_and_ΔN\n",
    "        N_and_ΔN=[[0,0]]*len(Φ)\n",
    "        Eν_pre=Φ[0,0] # which negelects first bin\n",
    "        for i,(Eν, Φi) in enumerate(Φ):             \n",
    "            T2=min(Tbin[1],Tmax(Eν))\n",
    "            T1=max(Tbin[0],Tmin(Eν))\n",
    "            ΔE=Eν-Eν_pre; Eν_pre=Eν;\n",
    "            if T1>T2 or Φi==0:\n",
    "                pass\n",
    "#                 N_and_ΔN.append([0,0])# which leads to zero contribution\n",
    "            else:\n",
    "                #sometimes, we don't perform the actual T integral for rapid evaluation. \n",
    "                #this is controlled by discrete_n. \n",
    "                #if it is 0 or 1, we don't discretize ii, just integrate it from T1 to T2\n",
    "                #if it is a larger number, we simply sum over Tlist=[T1+ΔT/2, T1+ΔT+ΔT/2, T1+2ΔT+ΔT/2, ...]\n",
    "                #in this case, len(Tlist) is defined as discrete_n\n",
    "                if discrete_n>1: \n",
    "                    Tlist,ΔT=np.linspace(T1,T2,discrete_n,endpoint=False,retstep=True)\n",
    "                    Tlist=Tlist+ΔT/2\n",
    "                    iii= np.sum([prefactor*Φi*dσdT(Eν,T)*ΔE *ΔT  for T in Tlist]) , 0\n",
    "                else:                   \n",
    "                    iii=si.quad(lambda T: prefactor*Φi*dσdT(Eν,T)*Tcut_debug(Eν,T,T1T2=[T1,T2])*ΔE, \n",
    "                                  a=T1,b=T2,epsrel=epsrel,epsabs=epsabs)\n",
    "                N_and_ΔN[i]=iii\n",
    "\n",
    "        \n",
    "        return np.sum(N_and_ΔN,axis=0)[0] # [0]: takes only N, not N_and_ΔN"
   ]
  },
  {
   "cell_type": "code",
   "execution_count": 6,
   "metadata": {},
   "outputs": [
    {
     "data": {
      "text/plain": [
       "100.64603905788474"
      ]
     },
     "execution_count": 6,
     "metadata": {},
     "output_type": "execute_result"
    }
   ],
   "source": [
    "Φ_νμ=np.loadtxt(\"data/DUNE_data/dune_numode_ND.txt\")[:,[0,2]]\n",
    "Φ_νμ[:,1]=Φ_νμ[:,1] * per_GeV_per_m2\n",
    "\n",
    "Φ_̄νμ=np.loadtxt(\"data/DUNE_data/dune_antinumode_ND.txt\")[:,[0,5]] # 5 -> ̄νμ\n",
    "Φ_̄νμ[:,1]=Φ_̄νμ[:,1] * per_GeV_per_m2\n",
    "\n",
    "diff_rate(Φ_νμ,dσdT,Tbin=[0,120]) \n"
   ]
  },
  {
   "cell_type": "code",
   "execution_count": 7,
   "metadata": {},
   "outputs": [
    {
     "data": {
      "text/plain": [
       "96.883788158513"
      ]
     },
     "execution_count": 7,
     "metadata": {},
     "output_type": "execute_result"
    }
   ],
   "source": [
    "g=1e-3;\n",
    "diff_rate(Φ_νμ,lambda Eν,T: dσdT(Eν,T,model={\"name\":\"Zprime\",\"σ\":σ_νμ_Zprime,\n",
    "                                             \"gL\":g,\"gR\":g,\"gnu\":g,\"mz\":2.0*GeV}),\n",
    "          Tbin=[0,120])"
   ]
  },
  {
   "attachments": {
    "image.png": {
     "image/png": "[encoded data removed]"
    }
   },
   "cell_type": "markdown",
   "metadata": {},
   "source": [
    "![image.png](attachment:image.png)"
   ]
  },
  {
   "attachments": {
    "image.png": {
     "image/png": "[encoded data removed]"
    }
   },
   "cell_type": "markdown",
   "metadata": {},
   "source": [
    "![image.png](attachment:image.png)"
   ]
  },
  {
   "cell_type": "code",
   "execution_count": 8,
   "metadata": {},
   "outputs": [],
   "source": [
    "def χ2(N,N0,σ,σa=0):\n",
    "    if σa==0:\n",
    "        a=0\n",
    "        χ2a=0\n",
    "    else:\n",
    "        a=np.sum( (N0-N)*N/σ**2 ) /(1/σa**2+ np.sum(N**2/σ**2))\n",
    "        χ2a=(a/σa)**2\n",
    "    return χ2a+np.sum((((1+a)*N-N0)/σ)**2)\n"
   ]
  },
  {
   "cell_type": "code",
   "execution_count": 9,
   "metadata": {},
   "outputs": [],
   "source": [
    "npa=np.array;\n",
    "def computeNlist(Φ, model):\n",
    "    return np.array([diff_rate(Φ,lambda Eν,T: dσdT(Eν,T,model=model),\n",
    "                               prefactor=scale_factor * Ne_POT ,\n",
    "                               Tbin=Tbin,discrete_n=discrete_n)  \n",
    "                     for Tbin in bins])\n",
    "\n",
    "def init_χ2(set_discrete_n=0,set_flux_σa=[0.02,0.02],set_scale_factor=1,set_χ_cut=2.71,single_bin=False):\n",
    "    global discrete_n, N0SM, N0SMbar, σa_ν_mode, σa_̄ν_mode,bins,scale_factor,χ2_cut\n",
    "    \n",
    "    σa_ν_mode,σa_̄ν_mode=set_flux_σa\n",
    "    discrete_n=set_discrete_n\n",
    "    scale_factor=set_scale_factor\n",
    "    χ2_cut=set_χ_cut # 2.71-> 90% C.L.\n",
    "    \n",
    "    if single_bin:\n",
    "        bins=[[0,100]]\n",
    "    else:\n",
    "        binleft=np.linspace(0,8,6)\n",
    "        binright=np.concatenate([binleft[1:],[100]])\n",
    "        bins=np.transpose([binleft,binright])\n",
    "        \n",
    "    if single_bin and set_discrete_n>=1:\n",
    "        print(\"warning: xxxxxxxxx\")\n",
    "\n",
    "    N0SM= computeNlist(Φ_νμ, model={\"name\":\"SM\",\"σ\":σ_νμ_SM}) \n",
    "    N0SMbar=computeNlist(Φ_̄νμ, model={\"name\":\"SM\",\"σ\":σ_̄νμ_SM}) \n",
    "\n",
    "init_χ2()\n",
    "\n",
    "def χ2_model(model):\n",
    "    model[\"σ\"]=model[\"σ_νμ\"]\n",
    "    N=   computeNlist(Φ_νμ, model) \n",
    "    model[\"σ\"]=model[\"σ_̄νμ\"]\n",
    "    Nbar=computeNlist(Φ_̄νμ, model)\n",
    "    return χ2(N,N0SM,σ=np.sqrt(N),σa=σa_ν_mode)+χ2(Nbar,N0SMbar,σ=np.sqrt(Nbar),σa=σa_̄ν_mode)\n"
   ]
  },
  {
   "cell_type": "code",
   "execution_count": 10,
   "metadata": {},
   "outputs": [
    {
     "name": "stdout",
     "output_type": "stream",
     "text": [
      "0.2402111459161825\n"
     ]
    },
    {
     "data": {
      "text/plain": [
       "3.6162405014038086"
      ]
     },
     "execution_count": 10,
     "metadata": {},
     "output_type": "execute_result"
    }
   ],
   "source": [
    "init_χ2()\n",
    "\n",
    "g=1e-3;\n",
    "model={\"name\":\"Zprime\",\"σ\":None,\"σ_νμ\":σ_νμ_Zprime,\"σ_̄νμ\":σ_̄νμ_Zprime,\"gL\":g,\"gR\":g,\"gnu\":g,\"mz\":2.0*GeV}\n",
    "_t=time.time()\n",
    "print(χ2_model(model)  )\n",
    "time.time()-_t"
   ]
  },
  {
   "cell_type": "code",
   "execution_count": 11,
   "metadata": {},
   "outputs": [
    {
     "name": "stdout",
     "output_type": "stream",
     "text": [
      "0.24069121221479012\n"
     ]
    },
    {
     "data": {
      "text/plain": [
       "1.1809957027435303"
      ]
     },
     "execution_count": 11,
     "metadata": {},
     "output_type": "execute_result"
    }
   ],
   "source": [
    "init_χ2(5)\n",
    "\n",
    "g=1e-3;\n",
    "model={\"name\":\"Zprime\",\"σ\":None,\"σ_νμ\":σ_νμ_Zprime,\"σ_̄νμ\":σ_̄νμ_Zprime,\"gL\":g,\"gR\":g,\"gnu\":g,\"mz\":2.0*GeV}\n",
    "_t=time.time()\n",
    "print(χ2_model(model)  )\n",
    "time.time()-_t"
   ]
  },
  {
   "cell_type": "code",
   "execution_count": 15,
   "metadata": {},
   "outputs": [
    {
     "name": "stdout",
     "output_type": "stream",
     "text": [
      " working on mz= 1000.0###\n",
      " [[0.001, -4.892110759123949], [1.0, -3.4407147192197325], [1000.0, -0.44832772407158766]]\n",
      "time: 29.334489345550537\n"
     ]
    }
   ],
   "source": [
    "init_χ2(set_discrete_n=3,set_scale_factor= 5 * 67.2  )  # 5 yr per mode, each year 1.1e21POT, 67.2 ton\n",
    "\n",
    "def χ2_g(g,mz,r_eL=1,r_eR=1,r_ν=1):\n",
    "    model={\"name\":\"Zprime\",\"σ\":None,\"σ_νμ\":σ_νμ_Zprime,\"σ_̄νμ\":σ_̄νμ_Zprime,\n",
    "           \"gL\":g*r_eL,\"gR\":g*r_eR,\"gnu\":g*r_ν,\"mz\":mz}\n",
    "    return χ2_model(model)\n",
    "\n",
    "_t=time.time()\n",
    "mz_list=np.geomspace(1e-3*GeV, 1e3*GeV,3)\n",
    "sol_list=[0]*len(mz_list)\n",
    "for i,mz in enumerate(mz_list):\n",
    "    print (\"\\r working on mz=\", mz,end=\"###\")\n",
    "    sol_list[i]=so.root_scalar(lambda lgg:χ2_g(10**lgg,mz)-χ2_cut,bracket=[-6,0],rtol=1e-2)\n",
    "print(\"\\n\", [[mz,sol_list[i].root] for i,mz  in enumerate(mz_list)] )\n",
    "print(\"time:\", time.time()-_t)"
   ]
  },
  {
   "cell_type": "code",
   "execution_count": 16,
   "metadata": {},
   "outputs": [],
   "source": [
    "mz_list_optimized=np.concatenate([\n",
    "    np.geomspace(0.001*GeV, 0.005*GeV,3,endpoint=False),\n",
    "    np.geomspace(0.005*GeV, 0.2*GeV,20,endpoint=False),\n",
    "    np.geomspace(0.2*GeV, 1e3*GeV,3)])"
   ]
  },
  {
   "cell_type": "code",
   "execution_count": 17,
   "metadata": {},
   "outputs": [
    {
     "name": "stdout",
     "output_type": "stream",
     "text": [
      "(-0.6033333333333334, 0.23)\n"
     ]
    },
    {
     "data": {
      "text/plain": [
       "(2.775073510670984, 159.1323795945808)"
      ]
     },
     "execution_count": 17,
     "metadata": {},
     "output_type": "execute_result"
    }
   ],
   "source": [
    "sw2=0.23;\n",
    "xy=(sw2-5/6, sw2)\n",
    "print(xy)\n",
    "degree=1/180*Pi\n",
    "β_vR=159 *degree\n",
    "β_vR, np.degrees(np.arctan(xy[1]/xy[0])+Pi)\n"
   ]
  },
  {
   "cell_type": "code",
   "execution_count": 401,
   "metadata": {},
   "outputs": [
    {
     "name": "stdout",
     "output_type": "stream",
     "text": [
      " working on β= 180 ,mz= 1000.0###623730951######time: 1411.2751681804657\n"
     ]
    }
   ],
   "source": [
    "init_χ2(set_discrete_n=3,set_scale_factor= 5 * 67.2  )  # 5 yr per mode, each year 1.1e21POT, 67.2 ton\n",
    "\n",
    "mz_list=mz_list_optimized\n",
    "\n",
    "_t=time.time()\n",
    "# [0,45,90,159,180*]\n",
    "for β_in_degree in [0,45,90,159,180]:\n",
    "    β=β_in_degree*degree\n",
    "    r_eL,r_eR=Cos(β),Sin(β)\n",
    "    sol_list=[0]*len(mz_list)\n",
    "    for i,mz in enumerate(mz_list):\n",
    "        print (\"\\r working on β=\", β_in_degree, \",mz=\", mz,end=\"###\")\n",
    "        sol_list[i]=so.root_scalar(\n",
    "            lambda lgg:χ2_g(10**lgg,mz,r_eL,r_eR)-χ2_cut,bracket=[-6,0],rtol=1e-3)\n",
    "\n",
    "    result=np.array([[mz,10**sol_list[i].root] for i,mz  in enumerate(mz_list)])\n",
    "    np.savetxt(\"data/DUNE-nu-e-beta\"+str(β_in_degree)+\".dat\",result)\n",
    "print(\"time:\", time.time()-_t)"
   ]
  },
  {
   "cell_type": "code",
   "execution_count": 18,
   "metadata": {
    "scrolled": true
   },
   "outputs": [
    {
     "name": "stdout",
     "output_type": "stream",
     "text": [
      " 360.0#######36364########"
     ]
    }
   ],
   "source": [
    "init_χ2(set_discrete_n=3,set_scale_factor= 5 * 67.2)  # 5 yr per mode, each year 1.1e21POT, 67.2 ton\n",
    "\n",
    "lgg_list=[]\n",
    "β_list=np.linspace(0,2*Pi,100)#[-2,-1,-0.38,0,0.5,1,2]\n",
    "for β in β_list:\n",
    "    r_eL,r_eR=Cos(β),Sin(β)\n",
    "    mz=0.001*GeV\n",
    "    sol=so.root_scalar(\n",
    "        lambda lgg:χ2_g(10**lgg,mz,r_eL,r_eR)-χ2_cut,bracket=[-6,0],rtol=1e-3)\n",
    "    print (\"\\r\", β/degree, end=\"#######\")\n",
    "    lgg_list.append(sol.root)"
   ]
  },
  {
   "cell_type": "code",
   "execution_count": null,
   "metadata": {},
   "outputs": [],
   "source": []
  },
  {
   "cell_type": "code",
   "execution_count": 366,
   "metadata": {},
   "outputs": [],
   "source": [
    "np.savetxt(\"data/beta_lgg.dat\",np.transpose([β_list,lgg_list]))"
   ]
  },
  {
   "cell_type": "code",
   "execution_count": 20,
   "metadata": {},
   "outputs": [
    {
     "data": {
      "text/plain": [
       "[<matplotlib.lines.Line2D at 0x7f2bc192b400>]"
      ]
     },
     "execution_count": 20,
     "metadata": {},
     "output_type": "execute_result"
    },
    {
     "data": {
      "image/png": "[encoded data removed]",
      "text/plain": [
       "<Figure size 432x288 with 1 Axes>"
      ]
     },
     "metadata": {
      "needs_background": "light"
     },
     "output_type": "display_data"
    }
   ],
   "source": [
    "plt.plot(β_list,lgg_list)"
   ]
  },
  {
   "cell_type": "code",
   "execution_count": 65,
   "metadata": {},
   "outputs": [
    {
     "name": "stdout",
     "output_type": "stream",
     "text": [
      " 360.0#######36364########"
     ]
    }
   ],
   "source": [
    "init_χ2(set_discrete_n=3,set_scale_factor= 5 * 67.2)  # 5 yr per mode, each year 1.1e21POT, 67.2 ton\n",
    "\n",
    "lgg_list=[]\n",
    "β_list=np.linspace(0,2*Pi,100)\n",
    "for β in β_list:\n",
    "    r_eL,r_eR=Cos(β),Sin(β)\n",
    "    \n",
    "    sols=[so.root_scalar(\n",
    "        lambda lgg:χ2_g(10**lgg,mz,r_eL,r_eR)-χ2_cut,bracket=[-6,0],rtol=1e-3) \n",
    "          for mz in [0.001*GeV,0.03*GeV,1*GeV]]\n",
    "    print (\"\\r\", β/degree, end=\"#######\")\n",
    "    lgg_list.append([sol.root for sol in sols])\n",
    "    \n",
    "output=np.array([np.concatenate([(β,),lgg_list[i]]) for i,β in enumerate(β_list)])    \n"
   ]
  },
  {
   "cell_type": "code",
   "execution_count": null,
   "metadata": {},
   "outputs": [],
   "source": []
  },
  {
   "cell_type": "code",
   "execution_count": 66,
   "metadata": {},
   "outputs": [],
   "source": [
    "np.savetxt(\"data/beta_lgg_m.dat\",output)"
   ]
  },
  {
   "cell_type": "code",
   "execution_count": 409,
   "metadata": {},
   "outputs": [],
   "source": [
    "init_χ2(set_discrete_n=3,set_scale_factor= 5 * 67.2)\n",
    "\n",
    "\n",
    "def computeN(β=45*degree, g=2e-5,r_ν=1, mz=1e-3*GeV):\n",
    "    r_eL,r_eR=Cos(β),Sin(β)\n",
    "    model= {\"name\":\"Zprime\",\"σ\":None,\"σ_νμ\":σ_νμ_Zprime,\"σ_̄νμ\":σ_̄νμ_Zprime,\n",
    "               \"gL\":g*r_eL,\"gR\":g*r_eR,\"gnu\":g*r_ν,\"mz\":mz}\n",
    "    model[\"σ\"]=model[\"σ_νμ\"]\n",
    "    N=   computeNlist(Φ_νμ, model) \n",
    "    model[\"σ\"]=model[\"σ_̄νμ\"]\n",
    "    Nbar=computeNlist(Φ_̄νμ, model)\n",
    "    return N, Nbar"
   ]
  },
  {
   "cell_type": "code",
   "execution_count": 410,
   "metadata": {},
   "outputs": [],
   "source": [
    "# N, Nbar=computeN(β=159*degree, g=3e-3,r_ν=1, mz=1e-1*GeV)\n",
    "# N2, Nbar2=computeN(β=45*degree, g=3e-3,r_ν=1, mz=1e-1*GeV)\n",
    "# bin_middle=np.mean(bins,axis=1)\n",
    "# np.save(\"data/bin_illustrate.npy\", {\"bins\":bins,\"N0SM\":N0SM,\"N0SMbar\":N0SMbar, \n",
    "#                                     \"N\":N, \"Nbar\":Nbar,\"N2\":N2,\"Nbar2\":Nbar2})\n",
    "# np.savez(\"data/bin_illustrate.npz\",bins,N0SM,N0SMbar,N,Nbar,N2,Nbar2)"
   ]
  },
  {
   "cell_type": "code",
   "execution_count": null,
   "metadata": {},
   "outputs": [],
   "source": []
  },
  {
   "cell_type": "code",
   "execution_count": 412,
   "metadata": {
    "scrolled": true
   },
   "outputs": [
    {
     "data": {
      "image/png": "[encoded data removed]",
      "text/plain": [
       "<Figure size 432x288 with 2 Axes>"
      ]
     },
     "metadata": {
      "needs_background": "light"
     },
     "output_type": "display_data"
    }
   ],
   "source": [
    "fig, axs=plt.subplots(ncols=2,sharey=True)\n",
    "\n",
    "N, Nbar=computeN(β=159*degree, g=1e-4,r_ν=1, mz=1e-1*GeV)\n",
    "N2, Nbar2=computeN(β=45*degree, g=1e-4,r_ν=1, mz=1e-1*GeV)\n",
    "ax=axs[0]\n",
    "ax.bar(np.mean(bins,axis=1),N0SM/(bins[:,1]-bins[:,0]),width=1.6,alpha=0.3)\n",
    "ax.scatter(np.mean(bins,axis=1),N/(bins[:,1]-bins[:,0]))\n",
    "ax.scatter(np.mean(bins,axis=1),N2/(bins[:,1]-bins[:,0]))\n",
    "ax=axs[1]\n",
    "ax.bar(np.mean(bins,axis=1),N0SMbar/(bins[:,1]-bins[:,0]),width=1.6,alpha=0.3)\n",
    "ax.scatter(np.mean(bins,axis=1),Nbar/(bins[:,1]-bins[:,0]))\n",
    "ax.scatter(np.mean(bins,axis=1),Nbar2/(bins[:,1]-bins[:,0]))\n",
    "\n",
    "for ax in axs:\n",
    "    ax.set_xlim(0,8)\n",
    "    ax.set_ylim(0,12000)\n",
    "plt.show()"
   ]
  },
  {
   "cell_type": "code",
   "execution_count": 413,
   "metadata": {},
   "outputs": [],
   "source": [
    "np.savez(\"data/bin_illustrate.npz\",bins,N0SM,N0SMbar,N,Nbar,N2,Nbar2)"
   ]
  }
 ],
 "metadata": {
  "kernelspec": {
   "display_name": "Python 3",
   "language": "python",
   "name": "python3"
  },
  "language_info": {
   "codemirror_mode": {
    "name": "ipython",
    "version": 3
   },
   "file_extension": ".py",
   "mimetype": "text/x-python",
   "name": "python",
   "nbconvert_exporter": "python",
   "pygments_lexer": "ipython3",
   "version": "3.8.10"
  }
 },
 "nbformat": 4,
 "nbformat_minor": 4
}
